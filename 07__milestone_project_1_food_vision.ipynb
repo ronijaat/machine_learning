{
  "nbformat": 4,
  "nbformat_minor": 0,
  "metadata": {
    "colab": {
      "provenance": []
    },
    "kernelspec": {
      "name": "python3",
      "display_name": "Python 3"
    },
    "language_info": {
      "name": "python"
    },
    "accelerator": "GPU",
    "gpuClass": "standard"
  },
  "cells": [
    {
      "cell_type": "markdown",
      "source": [
        "## Check GPU"
      ],
      "metadata": {
        "id": "uU-sZ4uxr57u"
      }
    },
    {
      "cell_type": "markdown",
      "source": [
        "Google colab offers free GPUs, however not all of them are compatiable with mixed precession training\n",
        "* Tesla T4 is compatible\n"
      ],
      "metadata": {
        "id": "bwTsAuj-1lQu"
      }
    },
    {
      "cell_type": "code",
      "source": [
        "!nvidia-smi -L"
      ],
      "metadata": {
        "id": "YNuUyEh622DZ",
        "colab": {
          "base_uri": "https://localhost:8080/"
        },
        "outputId": "d8ad9000-5105-47e6-ec32-ecc232328b12"
      },
      "execution_count": null,
      "outputs": [
        {
          "output_type": "stream",
          "name": "stdout",
          "text": [
            "GPU 0: Tesla T4 (UUID: GPU-35f41c82-396b-15f3-3edf-861acf270447)\n"
          ]
        }
      ]
    },
    {
      "cell_type": "markdown",
      "source": [
        "## Get helper Functions"
      ],
      "metadata": {
        "id": "45HSxzRD268A"
      }
    },
    {
      "cell_type": "code",
      "source": [
        "!wget https://raw.githubusercontent.com/mrdbourke/tensorflow-deep-learning/main/extras/helper_functions.py"
      ],
      "metadata": {
        "colab": {
          "base_uri": "https://localhost:8080/"
        },
        "id": "IJFv7e5X4jar",
        "outputId": "2eebc3cc-1eaf-4da3-a474-fe9dba45a400"
      },
      "execution_count": null,
      "outputs": [
        {
          "output_type": "stream",
          "name": "stdout",
          "text": [
            "--2023-03-23 05:12:25--  https://raw.githubusercontent.com/mrdbourke/tensorflow-deep-learning/main/extras/helper_functions.py\n",
            "Resolving raw.githubusercontent.com (raw.githubusercontent.com)... 185.199.108.133, 185.199.109.133, 185.199.110.133, ...\n",
            "Connecting to raw.githubusercontent.com (raw.githubusercontent.com)|185.199.108.133|:443... connected.\n",
            "HTTP request sent, awaiting response... 200 OK\n",
            "Length: 10246 (10K) [text/plain]\n",
            "Saving to: ‘helper_functions.py’\n",
            "\n",
            "\rhelper_functions.py   0%[                    ]       0  --.-KB/s               \rhelper_functions.py 100%[===================>]  10.01K  --.-KB/s    in 0s      \n",
            "\n",
            "2023-03-23 05:12:25 (102 MB/s) - ‘helper_functions.py’ saved [10246/10246]\n",
            "\n"
          ]
        }
      ]
    },
    {
      "cell_type": "code",
      "source": [
        "from helper_functions import create_tensorboard_callback, plot_loss_curves, compare_historys"
      ],
      "metadata": {
        "id": "8xF4rdgS4kkw"
      },
      "execution_count": null,
      "outputs": []
    },
    {
      "cell_type": "markdown",
      "source": [
        "## Use Tensorflow Datasets to downlaod datasets"
      ],
      "metadata": {
        "id": "b63q_WvS47g3"
      }
    },
    {
      "cell_type": "code",
      "source": [
        "# GEt tensorflow datasets\n",
        "import tensorflow_datasets as tfds"
      ],
      "metadata": {
        "id": "_DBWwuTg5HF6"
      },
      "execution_count": null,
      "outputs": []
    },
    {
      "cell_type": "code",
      "source": [
        "datasets_list = tfds.list_builders()\n",
        "print(\"food101\" in datasets_list)"
      ],
      "metadata": {
        "colab": {
          "base_uri": "https://localhost:8080/"
        },
        "id": "JGg_zoa75ypE",
        "outputId": "a98620fa-88a9-4012-dfe8-6cd2b97d8f23"
      },
      "execution_count": null,
      "outputs": [
        {
          "output_type": "stream",
          "name": "stdout",
          "text": [
            "True\n"
          ]
        }
      ]
    },
    {
      "cell_type": "code",
      "source": [
        "# Load in the data\n",
        "(train_data, test_data), ds_info = tfds.load(name=\"food101\",\n",
        "                                             split=[\"train\",\"validation\"],\n",
        "                                             shuffle_files=True,\n",
        "                                             as_supervised=True,\n",
        "                                             with_info=True)"
      ],
      "metadata": {
        "id": "OGocdUjt5802"
      },
      "execution_count": null,
      "outputs": []
    },
    {
      "cell_type": "code",
      "source": [
        "ds_info.features"
      ],
      "metadata": {
        "colab": {
          "base_uri": "https://localhost:8080/"
        },
        "id": "qW41Z5-B69aS",
        "outputId": "f1d3b6f0-c757-4e26-9942-4e506c43b03f"
      },
      "execution_count": null,
      "outputs": [
        {
          "output_type": "execute_result",
          "data": {
            "text/plain": [
              "FeaturesDict({\n",
              "    'image': Image(shape=(None, None, 3), dtype=uint8),\n",
              "    'label': ClassLabel(shape=(), dtype=int64, num_classes=101),\n",
              "})"
            ]
          },
          "metadata": {},
          "execution_count": 8
        }
      ]
    },
    {
      "cell_type": "code",
      "source": [
        "class_names = ds_info.features[\"label\"].names\n",
        "class_names[:10]"
      ],
      "metadata": {
        "colab": {
          "base_uri": "https://localhost:8080/"
        },
        "id": "7MI_ptWc9WRi",
        "outputId": "8fdc512d-2549-4934-8121-8a4a3206e997"
      },
      "execution_count": null,
      "outputs": [
        {
          "output_type": "execute_result",
          "data": {
            "text/plain": [
              "['apple_pie',\n",
              " 'baby_back_ribs',\n",
              " 'baklava',\n",
              " 'beef_carpaccio',\n",
              " 'beef_tartare',\n",
              " 'beet_salad',\n",
              " 'beignets',\n",
              " 'bibimbap',\n",
              " 'bread_pudding',\n",
              " 'breakfast_burrito']"
            ]
          },
          "metadata": {},
          "execution_count": 11
        }
      ]
    },
    {
      "cell_type": "code",
      "source": [
        "#Take one sample of the train data\n",
        "train_one_sample = train_data.take(1)\n",
        "train_one_sample"
      ],
      "metadata": {
        "colab": {
          "base_uri": "https://localhost:8080/"
        },
        "id": "11aPosFw9cil",
        "outputId": "25eee1b3-5bec-4e5c-c02c-616048c3a147"
      },
      "execution_count": null,
      "outputs": [
        {
          "output_type": "execute_result",
          "data": {
            "text/plain": [
              "<TakeDataset element_spec=(TensorSpec(shape=(None, None, 3), dtype=tf.uint8, name=None), TensorSpec(shape=(), dtype=tf.int64, name=None))>"
            ]
          },
          "metadata": {},
          "execution_count": 14
        }
      ]
    },
    {
      "cell_type": "code",
      "source": [
        "# Output info\n",
        "for image, label in train_one_sample:\n",
        "  print(f\"\"\"\n",
        "  Image Shape : {image.shape}\n",
        "  Image datatype : {image.dtype}\n",
        "  Target class from Food101(tensor form) : {label}\n",
        "  Class name (str form) : {class_names[label.numpy()]}\n",
        "  \"\"\")"
      ],
      "metadata": {
        "colab": {
          "base_uri": "https://localhost:8080/"
        },
        "id": "n2UTgeHT9nlU",
        "outputId": "1c385eca-e5f6-4211-b8fd-a427a1cd2ebe"
      },
      "execution_count": null,
      "outputs": [
        {
          "output_type": "stream",
          "name": "stdout",
          "text": [
            "\n",
            "  Image Shape : (341, 512, 3)\n",
            "  Image datatype : <dtype: 'uint8'>\n",
            "  Target class from Food101(tensor form) : 98\n",
            "  Class name (str form) : tiramisu\n",
            "  \n"
          ]
        }
      ]
    },
    {
      "cell_type": "code",
      "source": [
        "image"
      ],
      "metadata": {
        "colab": {
          "base_uri": "https://localhost:8080/"
        },
        "id": "PJLCEVV099rM",
        "outputId": "e23b92cb-e1d9-4e77-b9a4-a241f04b0bd9"
      },
      "execution_count": null,
      "outputs": [
        {
          "output_type": "execute_result",
          "data": {
            "text/plain": [
              "<tf.Tensor: shape=(341, 512, 3), dtype=uint8, numpy=\n",
              "array([[[  2,   2,   0],\n",
              "        [  2,   2,   0],\n",
              "        [  2,   2,   0],\n",
              "        ...,\n",
              "        [  0,   3,   0],\n",
              "        [  0,   4,   0],\n",
              "        [  0,   4,   0]],\n",
              "\n",
              "       [[  2,   2,   0],\n",
              "        [  2,   2,   0],\n",
              "        [  3,   3,   1],\n",
              "        ...,\n",
              "        [  1,   3,   0],\n",
              "        [  0,   4,   0],\n",
              "        [  0,   4,   0]],\n",
              "\n",
              "       [[  5,   6,   1],\n",
              "        [  5,   6,   1],\n",
              "        [  5,   6,   1],\n",
              "        ...,\n",
              "        [  1,   3,   0],\n",
              "        [  0,   4,   0],\n",
              "        [  0,   5,   1]],\n",
              "\n",
              "       ...,\n",
              "\n",
              "       [[143,  75,  10],\n",
              "        [149,  81,  16],\n",
              "        [150,  85,  19],\n",
              "        ...,\n",
              "        [162,  88,  25],\n",
              "        [150,  79,  17],\n",
              "        [135,  65,   5]],\n",
              "\n",
              "       [[144,  76,  11],\n",
              "        [152,  84,  19],\n",
              "        [145,  80,  16],\n",
              "        ...,\n",
              "        [126,  60,  12],\n",
              "        [111,  50,   3],\n",
              "        [ 95,  37,   0]],\n",
              "\n",
              "       [[145,  77,  14],\n",
              "        [150,  82,  19],\n",
              "        [139,  74,  10],\n",
              "        ...,\n",
              "        [ 89,  35,   1],\n",
              "        [ 75,  29,   0],\n",
              "        [ 64,  19,   0]]], dtype=uint8)>"
            ]
          },
          "metadata": {},
          "execution_count": 30
        }
      ]
    },
    {
      "cell_type": "code",
      "source": [
        "import tensorflow as tf\n",
        "tf.reduce_min(image), tf.reduce_max(image)"
      ],
      "metadata": {
        "colab": {
          "base_uri": "https://localhost:8080/"
        },
        "id": "zQi9dPy7-xpI",
        "outputId": "bdfebda5-b8d5-47da-c317-b242b4044386"
      },
      "execution_count": null,
      "outputs": [
        {
          "output_type": "execute_result",
          "data": {
            "text/plain": [
              "(<tf.Tensor: shape=(), dtype=uint8, numpy=0>,\n",
              " <tf.Tensor: shape=(), dtype=uint8, numpy=255>)"
            ]
          },
          "metadata": {},
          "execution_count": 31
        }
      ]
    },
    {
      "cell_type": "code",
      "source": [
        "### Plot an image\n",
        "import matplotlib.pyplot as plt\n",
        "plt.imshow(image)\n",
        "plt.title(class_names[label.numpy()])\n",
        "plt.axis(False)"
      ],
      "metadata": {
        "colab": {
          "base_uri": "https://localhost:8080/",
          "height": 281
        },
        "id": "QOq1242y_BF3",
        "outputId": "80a4a467-0cdd-47b8-ebb1-3e142213c53d"
      },
      "execution_count": null,
      "outputs": [
        {
          "output_type": "execute_result",
          "data": {
            "text/plain": [
              "(-0.5, 511.5, 340.5, -0.5)"
            ]
          },
          "metadata": {},
          "execution_count": 32
        },
        {
          "output_type": "display_data",
          "data": {
            "text/plain": [
              "<Figure size 432x288 with 1 Axes>"
            ],
            "image/png": "[encoded data removed]"
          },
          "metadata": {
            "needs_background": "light"
          }
        }
      ]
    },
    {
      "cell_type": "markdown",
      "source": [
        "## Create Preprocessig functions for our data\n",
        "\n",
        "* data is in `uint8` datatype\n",
        "* different sizes tensors\n",
        "* not scaled\n",
        "\n",
        "Since we are using EficientNetBX pretrained model we don't need to rescale\n",
        "\n",
        "means our function do only\n",
        "1. Reshape\n",
        "2.convert uint8 to float32"
      ],
      "metadata": {
        "id": "ldUoz6oN_dXB"
      }
    },
    {
      "cell_type": "code",
      "source": [
        "def preprocess_img(image, label, img_shape=224):\n",
        "  image = tf.image.resize(image, [img_shape,img_shape])\n",
        "  #image = image/255. not required with EfficientNetBX\n",
        "  return tf.cast(image, tf.float32), label"
      ],
      "metadata": {
        "id": "FjgjyrdvAQ4N"
      },
      "execution_count": null,
      "outputs": []
    },
    {
      "cell_type": "code",
      "source": [
        "# preprocess a single sample image and check the outputs\n",
        "\n",
        "preprocessed_img = preprocess_img(image, label)[0]\n",
        "print(f\"Image before preprocessing \\n{image[:2]}... \\nShape : {image.shape} ,\\ Dtypes {image.dtype}\\n\")\n",
        "print(f\"Image after preprocessing \\n{preprocessed_img[:2]}... \\nShape : {preprocessed_img.shape} ,\\ Dtypes {preprocessed_img.dtype}\")"
      ],
      "metadata": {
        "colab": {
          "base_uri": "https://localhost:8080/"
        },
        "id": "eBgLg_ilCTq8",
        "outputId": "76797ba6-a7ff-458d-a253-6aa7c0a74d69"
      },
      "execution_count": null,
      "outputs": [
        {
          "output_type": "stream",
          "name": "stdout",
          "text": [
            "Image before preprocessing \n",
            "[[[2 2 0]\n",
            "  [2 2 0]\n",
            "  [2 2 0]\n",
            "  ...\n",
            "  [0 3 0]\n",
            "  [0 4 0]\n",
            "  [0 4 0]]\n",
            "\n",
            " [[2 2 0]\n",
            "  [2 2 0]\n",
            "  [3 3 1]\n",
            "  ...\n",
            "  [1 3 0]\n",
            "  [0 4 0]\n",
            "  [0 4 0]]]... \n",
            "Shape : (341, 512, 3) ,\\ Dtypes <dtype: 'uint8'>\n",
            "\n",
            "Image after preprocessing \n",
            "[[[2.         2.         0.        ]\n",
            "  [2.947226   2.947226   0.947226  ]\n",
            "  [4.         5.         0.        ]\n",
            "  ...\n",
            "  [1.         3.         0.        ]\n",
            "  [0.01865775 2.757497   0.        ]\n",
            "  [0.         4.         0.        ]]\n",
            "\n",
            " [[4.350446   5.1339283  0.7834821 ]\n",
            "  [4.566964   5.350446   1.        ]\n",
            "  [4.783482   5.783482   0.7834821 ]\n",
            "  ...\n",
            "  [1.         3.         0.        ]\n",
            "  [0.7989505  2.7989504  0.        ]\n",
            "  [0.         4.2798424  0.27984235]]]... \n",
            "Shape : (224, 224, 3) ,\\ Dtypes <dtype: 'float32'>\n"
          ]
        }
      ]
    },
    {
      "cell_type": "markdown",
      "source": [
        "## Batch and prepare our dataset\n",
        "\n",
        "We're going to make our input data pipeline run really fast\n"
      ],
      "metadata": {
        "id": "DRMTRULOCqa_"
      }
    },
    {
      "cell_type": "code",
      "source": [
        "#Map preprocessing function to training (and parallelize)\n",
        "train_data = train_data.map(map_func=preprocess_img,num_parallel_calls = tf.data.AUTOTUNE)  #tf.data.AUTOTUNE means collab use all CPU to do this map\n",
        "# Shuffle train_data and turn into batches and prefetch it (load it faster)\n",
        "train_data = train_data.shuffle(buffer_size=1000).batch(batch_size=32).prefetch(buffer_size=tf.data.AUTOTUNE)\n",
        "\n",
        "\n",
        "#Map preprocessing function to test data\n",
        "test_data = test_data.map(preprocess_img,num_parallel_calls = tf.data.AUTOTUNE).batch(32).prefetch(tf.data.AUTOTUNE)\n"
      ],
      "metadata": {
        "id": "EnRd8HOMDwaU"
      },
      "execution_count": null,
      "outputs": []
    },
    {
      "cell_type": "code",
      "source": [
        "train_data, test_data"
      ],
      "metadata": {
        "colab": {
          "base_uri": "https://localhost:8080/"
        },
        "id": "MCVEg97GENcE",
        "outputId": "d40b235d-b8e0-4326-b2d7-fe54ea54cc4b"
      },
      "execution_count": null,
      "outputs": [
        {
          "output_type": "execute_result",
          "data": {
            "text/plain": [
              "(<PrefetchDataset element_spec=(TensorSpec(shape=(None, 224, 224, 3), dtype=tf.float32, name=None), TensorSpec(shape=(None,), dtype=tf.int64, name=None))>,\n",
              " <PrefetchDataset element_spec=(TensorSpec(shape=(None, 224, 224, 3), dtype=tf.float32, name=None), TensorSpec(shape=(None,), dtype=tf.int64, name=None))>)"
            ]
          },
          "metadata": {},
          "execution_count": 42
        }
      ]
    },
    {
      "cell_type": "markdown",
      "source": [
        "\"Hey, tensorflow, ,map this preprocessing function (`preprocess_img`) across our training dataset, then shuffle a number of elements and then batch them together and finally make sure you prepare new batches(prefetch) whilst the model is looking through(finding patterns) the current batch\""
      ],
      "metadata": {
        "id": "VGniqisVGWMw"
      }
    },
    {
      "cell_type": "markdown",
      "source": [
        "## Create Modelling Callbacks"
      ],
      "metadata": {
        "id": "bu0LPcBvHfNm"
      }
    },
    {
      "cell_type": "code",
      "source": [
        "# Create tensorboard callback\n",
        "from helper_functions import create_tensorboard_callback\n",
        "\n",
        "#Create ModelCheckpoint callback to save a model's progress during training\n",
        "checkpoint_path = \"model_checkpoint/cp.ckpt\"\n",
        "\n",
        "model_checkpoint = tf.keras.callbacks.ModelCheckpoint(checkpoint_path,\n",
        "                                                      monitor=\"val_acc\",\n",
        "                                                      save_best_only=True,\n",
        "                                                      save_weights_only=True,\n",
        "                                                      verbose=0)"
      ],
      "metadata": {
        "id": "Zv1KdgtjJohj"
      },
      "execution_count": null,
      "outputs": []
    },
    {
      "cell_type": "markdown",
      "source": [
        "Setup Mixed Precision Training\n",
        "\n"
      ],
      "metadata": {
        "id": "o_duYZAtLxZj"
      }
    },
    {
      "cell_type": "code",
      "source": [
        "# Turn on mixed precision training\n",
        "from tensorflow.keras import mixed_precision\n",
        "mixed_precision.set_global_policy(\"mixed_float16\")"
      ],
      "metadata": {
        "id": "9PO8xhicMk8y"
      },
      "execution_count": null,
      "outputs": []
    },
    {
      "cell_type": "code",
      "source": [
        "mixed_precision.global_policy()"
      ],
      "metadata": {
        "colab": {
          "base_uri": "https://localhost:8080/"
        },
        "id": "eDOA-xedNYfr",
        "outputId": "126eba07-6f49-41d0-c7f2-7696dd9e10be"
      },
      "execution_count": null,
      "outputs": [
        {
          "output_type": "execute_result",
          "data": {
            "text/plain": [
              "<Policy \"mixed_float16\">"
            ]
          },
          "metadata": {},
          "execution_count": 50
        }
      ]
    },
    {
      "cell_type": "markdown",
      "source": [
        "## Builf features extraction model"
      ],
      "metadata": {
        "id": "G2bMJD73Ohkh"
      }
    },
    {
      "cell_type": "code",
      "source": [
        "from tensorflow.keras import layers\n",
        "from tensorflow.keras.layers.experimental import preprocessing\n",
        "input_shape=(224,224,3)\n",
        "\n",
        "base_model = tf.keras.applications.EfficientNetB0(include_top=False)\n",
        "base_model.trainable = False\n",
        "\n",
        "inputs = layers.Input(shape=input_shape, name=\"input_layer\")\n",
        "#if your model haven't rescale layer use the below layer\n",
        "# x = preprocessing.Rescaling(1./255)(x)\n",
        "\n",
        "x=base_model(inputs,training=False)\n",
        "x = layers.GlobalAveragePooling2D()(x)\n",
        "\n",
        "x = layers.Dense(len(class_names))(x)\n",
        "outputs = layers.Activation(\"softmax\", dtype=tf.float32, name=\"softmax_float32\")(x)\n",
        "\n",
        "model = tf.keras.Model(inputs, outputs)\n",
        "\n",
        "model.compile(loss=\"sparse_categorical_crossentropy\",\n",
        "              optimizer=tf.keras.optimizers.Adam(),\n",
        "              metrics=[\"accuracy\"])  #labels are not one hot encoded"
      ],
      "metadata": {
        "id": "W-uCS3jOQDBU"
      },
      "execution_count": null,
      "outputs": []
    },
    {
      "cell_type": "code",
      "source": [
        "model.summary()"
      ],
      "metadata": {
        "colab": {
          "base_uri": "https://localhost:8080/"
        },
        "id": "uAT_74sbRl5c",
        "outputId": "7e0bbc24-a313-4b2b-c0f8-e4339e021ad3"
      },
      "execution_count": null,
      "outputs": [
        {
          "output_type": "stream",
          "name": "stdout",
          "text": [
            "Model: \"model_1\"\n",
            "_________________________________________________________________\n",
            " Layer (type)                Output Shape              Param #   \n",
            "=================================================================\n",
            " input_layer (InputLayer)    [(None, 224, 224, 3)]     0         \n",
            "                                                                 \n",
            " efficientnetb0 (Functional)  (None, None, None, 1280)  4049571  \n",
            "                                                                 \n",
            " global_average_pooling2d_1   (None, 1280)             0         \n",
            " (GlobalAveragePooling2D)                                        \n",
            "                                                                 \n",
            " dense_1 (Dense)             (None, 101)               129381    \n",
            "                                                                 \n",
            " softmax_float32 (Activation  (None, 101)              0         \n",
            " )                                                               \n",
            "                                                                 \n",
            "=================================================================\n",
            "Total params: 4,178,952\n",
            "Trainable params: 129,381\n",
            "Non-trainable params: 4,049,571\n",
            "_________________________________________________________________\n"
          ]
        }
      ]
    },
    {
      "cell_type": "code",
      "source": [
        "for layer in model.layers:\n",
        "  print(f\"layer `{layer.name}` is trainable : {layer.trainable} has datatype : `{layer.dtype}` policy is `{layer.dtype_policy}`\")"
      ],
      "metadata": {
        "colab": {
          "base_uri": "https://localhost:8080/"
        },
        "id": "O0q0t3hsRsaC",
        "outputId": "1eddeba2-e6fa-42f6-d943-8b86eb62efa0"
      },
      "execution_count": null,
      "outputs": [
        {
          "output_type": "stream",
          "name": "stdout",
          "text": [
            "layer `input_layer` is trainable : True has datatype : `float32` policy is `<Policy \"float32\">`\n",
            "layer `efficientnetb0` is trainable : False has datatype : `float32` policy is `<Policy \"mixed_float16\">`\n",
            "layer `global_average_pooling2d_1` is trainable : True has datatype : `float32` policy is `<Policy \"mixed_float16\">`\n",
            "layer `dense_1` is trainable : True has datatype : `float32` policy is `<Policy \"mixed_float16\">`\n",
            "layer `softmax_float32` is trainable : True has datatype : `float32` policy is `<Policy \"float32\">`\n"
          ]
        }
      ]
    },
    {
      "cell_type": "code",
      "source": [
        "for layer in model.layers[1].layers:\n",
        "  print(f\"layer `{layer.name}` is trainable : {layer.trainable} has datatype : `{layer.dtype}` policy is `{layer.dtype_policy}`\")"
      ],
      "metadata": {
        "colab": {
          "base_uri": "https://localhost:8080/"
        },
        "id": "-7JoTt4kR4jp",
        "outputId": "9fe38aaa-43a1-46ce-cf60-67e8df699563"
      },
      "execution_count": null,
      "outputs": [
        {
          "output_type": "stream",
          "name": "stdout",
          "text": [
            "layer `input_2` is trainable : False has datatype : `float32` policy is `<Policy \"float32\">`\n",
            "layer `rescaling_2` is trainable : False has datatype : `float32` policy is `<Policy \"mixed_float16\">`\n",
            "layer `normalization_1` is trainable : False has datatype : `float32` policy is `<Policy \"mixed_float16\">`\n",
            "layer `rescaling_3` is trainable : False has datatype : `float32` policy is `<Policy \"mixed_float16\">`\n",
            "layer `stem_conv_pad` is trainable : False has datatype : `float32` policy is `<Policy \"mixed_float16\">`\n",
            "layer `stem_conv` is trainable : False has datatype : `float32` policy is `<Policy \"mixed_float16\">`\n",
            "layer `stem_bn` is trainable : False has datatype : `float32` policy is `<Policy \"mixed_float16\">`\n",
            "layer `stem_activation` is trainable : False has datatype : `float32` policy is `<Policy \"mixed_float16\">`\n",
            "layer `block1a_dwconv` is trainable : False has datatype : `float32` policy is `<Policy \"mixed_float16\">`\n",
            "layer `block1a_bn` is trainable : False has datatype : `float32` policy is `<Policy \"mixed_float16\">`\n",
            "layer `block1a_activation` is trainable : False has datatype : `float32` policy is `<Policy \"mixed_float16\">`\n",
            "layer `block1a_se_squeeze` is trainable : False has datatype : `float32` policy is `<Policy \"mixed_float16\">`\n",
            "layer `block1a_se_reshape` is trainable : False has datatype : `float32` policy is `<Policy \"mixed_float16\">`\n",
            "layer `block1a_se_reduce` is trainable : False has datatype : `float32` policy is `<Policy \"mixed_float16\">`\n",
            "layer `block1a_se_expand` is trainable : False has datatype : `float32` policy is `<Policy \"mixed_float16\">`\n",
            "layer `block1a_se_excite` is trainable : False has datatype : `float32` policy is `<Policy \"mixed_float16\">`\n",
            "layer `block1a_project_conv` is trainable : False has datatype : `float32` policy is `<Policy \"mixed_float16\">`\n",
            "layer `block1a_project_bn` is trainable : False has datatype : `float32` policy is `<Policy \"mixed_float16\">`\n",
            "layer `block2a_expand_conv` is trainable : False has datatype : `float32` policy is `<Policy \"mixed_float16\">`\n",
            "layer `block2a_expand_bn` is trainable : False has datatype : `float32` policy is `<Policy \"mixed_float16\">`\n",
            "layer `block2a_expand_activation` is trainable : False has datatype : `float32` policy is `<Policy \"mixed_float16\">`\n",
            "layer `block2a_dwconv_pad` is trainable : False has datatype : `float32` policy is `<Policy \"mixed_float16\">`\n",
            "layer `block2a_dwconv` is trainable : False has datatype : `float32` policy is `<Policy \"mixed_float16\">`\n",
            "layer `block2a_bn` is trainable : False has datatype : `float32` policy is `<Policy \"mixed_float16\">`\n",
            "layer `block2a_activation` is trainable : False has datatype : `float32` policy is `<Policy \"mixed_float16\">`\n",
            "layer `block2a_se_squeeze` is trainable : False has datatype : `float32` policy is `<Policy \"mixed_float16\">`\n",
            "layer `block2a_se_reshape` is trainable : False has datatype : `float32` policy is `<Policy \"mixed_float16\">`\n",
            "layer `block2a_se_reduce` is trainable : False has datatype : `float32` policy is `<Policy \"mixed_float16\">`\n",
            "layer `block2a_se_expand` is trainable : False has datatype : `float32` policy is `<Policy \"mixed_float16\">`\n",
            "layer `block2a_se_excite` is trainable : False has datatype : `float32` policy is `<Policy \"mixed_float16\">`\n",
            "layer `block2a_project_conv` is trainable : False has datatype : `float32` policy is `<Policy \"mixed_float16\">`\n",
            "layer `block2a_project_bn` is trainable : False has datatype : `float32` policy is `<Policy \"mixed_float16\">`\n",
            "layer `block2b_expand_conv` is trainable : False has datatype : `float32` policy is `<Policy \"mixed_float16\">`\n",
            "layer `block2b_expand_bn` is trainable : False has datatype : `float32` policy is `<Policy \"mixed_float16\">`\n",
            "layer `block2b_expand_activation` is trainable : False has datatype : `float32` policy is `<Policy \"mixed_float16\">`\n",
            "layer `block2b_dwconv` is trainable : False has datatype : `float32` policy is `<Policy \"mixed_float16\">`\n",
            "layer `block2b_bn` is trainable : False has datatype : `float32` policy is `<Policy \"mixed_float16\">`\n",
            "layer `block2b_activation` is trainable : False has datatype : `float32` policy is `<Policy \"mixed_float16\">`\n",
            "layer `block2b_se_squeeze` is trainable : False has datatype : `float32` policy is `<Policy \"mixed_float16\">`\n",
            "layer `block2b_se_reshape` is trainable : False has datatype : `float32` policy is `<Policy \"mixed_float16\">`\n",
            "layer `block2b_se_reduce` is trainable : False has datatype : `float32` policy is `<Policy \"mixed_float16\">`\n",
            "layer `block2b_se_expand` is trainable : False has datatype : `float32` policy is `<Policy \"mixed_float16\">`\n",
            "layer `block2b_se_excite` is trainable : False has datatype : `float32` policy is `<Policy \"mixed_float16\">`\n",
            "layer `block2b_project_conv` is trainable : False has datatype : `float32` policy is `<Policy \"mixed_float16\">`\n",
            "layer `block2b_project_bn` is trainable : False has datatype : `float32` policy is `<Policy \"mixed_float16\">`\n",
            "layer `block2b_drop` is trainable : False has datatype : `float32` policy is `<Policy \"mixed_float16\">`\n",
            "layer `block2b_add` is trainable : False has datatype : `float32` policy is `<Policy \"mixed_float16\">`\n",
            "layer `block3a_expand_conv` is trainable : False has datatype : `float32` policy is `<Policy \"mixed_float16\">`\n",
            "layer `block3a_expand_bn` is trainable : False has datatype : `float32` policy is `<Policy \"mixed_float16\">`\n",
            "layer `block3a_expand_activation` is trainable : False has datatype : `float32` policy is `<Policy \"mixed_float16\">`\n",
            "layer `block3a_dwconv_pad` is trainable : False has datatype : `float32` policy is `<Policy \"mixed_float16\">`\n",
            "layer `block3a_dwconv` is trainable : False has datatype : `float32` policy is `<Policy \"mixed_float16\">`\n",
            "layer `block3a_bn` is trainable : False has datatype : `float32` policy is `<Policy \"mixed_float16\">`\n",
            "layer `block3a_activation` is trainable : False has datatype : `float32` policy is `<Policy \"mixed_float16\">`\n",
            "layer `block3a_se_squeeze` is trainable : False has datatype : `float32` policy is `<Policy \"mixed_float16\">`\n",
            "layer `block3a_se_reshape` is trainable : False has datatype : `float32` policy is `<Policy \"mixed_float16\">`\n",
            "layer `block3a_se_reduce` is trainable : False has datatype : `float32` policy is `<Policy \"mixed_float16\">`\n",
            "layer `block3a_se_expand` is trainable : False has datatype : `float32` policy is `<Policy \"mixed_float16\">`\n",
            "layer `block3a_se_excite` is trainable : False has datatype : `float32` policy is `<Policy \"mixed_float16\">`\n",
            "layer `block3a_project_conv` is trainable : False has datatype : `float32` policy is `<Policy \"mixed_float16\">`\n",
            "layer `block3a_project_bn` is trainable : False has datatype : `float32` policy is `<Policy \"mixed_float16\">`\n",
            "layer `block3b_expand_conv` is trainable : False has datatype : `float32` policy is `<Policy \"mixed_float16\">`\n",
            "layer `block3b_expand_bn` is trainable : False has datatype : `float32` policy is `<Policy \"mixed_float16\">`\n",
            "layer `block3b_expand_activation` is trainable : False has datatype : `float32` policy is `<Policy \"mixed_float16\">`\n",
            "layer `block3b_dwconv` is trainable : False has datatype : `float32` policy is `<Policy \"mixed_float16\">`\n",
            "layer `block3b_bn` is trainable : False has datatype : `float32` policy is `<Policy \"mixed_float16\">`\n",
            "layer `block3b_activation` is trainable : False has datatype : `float32` policy is `<Policy \"mixed_float16\">`\n",
            "layer `block3b_se_squeeze` is trainable : False has datatype : `float32` policy is `<Policy \"mixed_float16\">`\n",
            "layer `block3b_se_reshape` is trainable : False has datatype : `float32` policy is `<Policy \"mixed_float16\">`\n",
            "layer `block3b_se_reduce` is trainable : False has datatype : `float32` policy is `<Policy \"mixed_float16\">`\n",
            "layer `block3b_se_expand` is trainable : False has datatype : `float32` policy is `<Policy \"mixed_float16\">`\n",
            "layer `block3b_se_excite` is trainable : False has datatype : `float32` policy is `<Policy \"mixed_float16\">`\n",
            "layer `block3b_project_conv` is trainable : False has datatype : `float32` policy is `<Policy \"mixed_float16\">`\n",
            "layer `block3b_project_bn` is trainable : False has datatype : `float32` policy is `<Policy \"mixed_float16\">`\n",
            "layer `block3b_drop` is trainable : False has datatype : `float32` policy is `<Policy \"mixed_float16\">`\n",
            "layer `block3b_add` is trainable : False has datatype : `float32` policy is `<Policy \"mixed_float16\">`\n",
            "layer `block4a_expand_conv` is trainable : False has datatype : `float32` policy is `<Policy \"mixed_float16\">`\n",
            "layer `block4a_expand_bn` is trainable : False has datatype : `float32` policy is `<Policy \"mixed_float16\">`\n",
            "layer `block4a_expand_activation` is trainable : False has datatype : `float32` policy is `<Policy \"mixed_float16\">`\n",
            "layer `block4a_dwconv_pad` is trainable : False has datatype : `float32` policy is `<Policy \"mixed_float16\">`\n",
            "layer `block4a_dwconv` is trainable : False has datatype : `float32` policy is `<Policy \"mixed_float16\">`\n",
            "layer `block4a_bn` is trainable : False has datatype : `float32` policy is `<Policy \"mixed_float16\">`\n",
            "layer `block4a_activation` is trainable : False has datatype : `float32` policy is `<Policy \"mixed_float16\">`\n",
            "layer `block4a_se_squeeze` is trainable : False has datatype : `float32` policy is `<Policy \"mixed_float16\">`\n",
            "layer `block4a_se_reshape` is trainable : False has datatype : `float32` policy is `<Policy \"mixed_float16\">`\n",
            "layer `block4a_se_reduce` is trainable : False has datatype : `float32` policy is `<Policy \"mixed_float16\">`\n",
            "layer `block4a_se_expand` is trainable : False has datatype : `float32` policy is `<Policy \"mixed_float16\">`\n",
            "layer `block4a_se_excite` is trainable : False has datatype : `float32` policy is `<Policy \"mixed_float16\">`\n",
            "layer `block4a_project_conv` is trainable : False has datatype : `float32` policy is `<Policy \"mixed_float16\">`\n",
            "layer `block4a_project_bn` is trainable : False has datatype : `float32` policy is `<Policy \"mixed_float16\">`\n",
            "layer `block4b_expand_conv` is trainable : False has datatype : `float32` policy is `<Policy \"mixed_float16\">`\n",
            "layer `block4b_expand_bn` is trainable : False has datatype : `float32` policy is `<Policy \"mixed_float16\">`\n",
            "layer `block4b_expand_activation` is trainable : False has datatype : `float32` policy is `<Policy \"mixed_float16\">`\n",
            "layer `block4b_dwconv` is trainable : False has datatype : `float32` policy is `<Policy \"mixed_float16\">`\n",
            "layer `block4b_bn` is trainable : False has datatype : `float32` policy is `<Policy \"mixed_float16\">`\n",
            "layer `block4b_activation` is trainable : False has datatype : `float32` policy is `<Policy \"mixed_float16\">`\n",
            "layer `block4b_se_squeeze` is trainable : False has datatype : `float32` policy is `<Policy \"mixed_float16\">`\n",
            "layer `block4b_se_reshape` is trainable : False has datatype : `float32` policy is `<Policy \"mixed_float16\">`\n",
            "layer `block4b_se_reduce` is trainable : False has datatype : `float32` policy is `<Policy \"mixed_float16\">`\n",
            "layer `block4b_se_expand` is trainable : False has datatype : `float32` policy is `<Policy \"mixed_float16\">`\n",
            "layer `block4b_se_excite` is trainable : False has datatype : `float32` policy is `<Policy \"mixed_float16\">`\n",
            "layer `block4b_project_conv` is trainable : False has datatype : `float32` policy is `<Policy \"mixed_float16\">`\n",
            "layer `block4b_project_bn` is trainable : False has datatype : `float32` policy is `<Policy \"mixed_float16\">`\n",
            "layer `block4b_drop` is trainable : False has datatype : `float32` policy is `<Policy \"mixed_float16\">`\n",
            "layer `block4b_add` is trainable : False has datatype : `float32` policy is `<Policy \"mixed_float16\">`\n",
            "layer `block4c_expand_conv` is trainable : False has datatype : `float32` policy is `<Policy \"mixed_float16\">`\n",
            "layer `block4c_expand_bn` is trainable : False has datatype : `float32` policy is `<Policy \"mixed_float16\">`\n",
            "layer `block4c_expand_activation` is trainable : False has datatype : `float32` policy is `<Policy \"mixed_float16\">`\n",
            "layer `block4c_dwconv` is trainable : False has datatype : `float32` policy is `<Policy \"mixed_float16\">`\n",
            "layer `block4c_bn` is trainable : False has datatype : `float32` policy is `<Policy \"mixed_float16\">`\n",
            "layer `block4c_activation` is trainable : False has datatype : `float32` policy is `<Policy \"mixed_float16\">`\n",
            "layer `block4c_se_squeeze` is trainable : False has datatype : `float32` policy is `<Policy \"mixed_float16\">`\n",
            "layer `block4c_se_reshape` is trainable : False has datatype : `float32` policy is `<Policy \"mixed_float16\">`\n",
            "layer `block4c_se_reduce` is trainable : False has datatype : `float32` policy is `<Policy \"mixed_float16\">`\n",
            "layer `block4c_se_expand` is trainable : False has datatype : `float32` policy is `<Policy \"mixed_float16\">`\n",
            "layer `block4c_se_excite` is trainable : False has datatype : `float32` policy is `<Policy \"mixed_float16\">`\n",
            "layer `block4c_project_conv` is trainable : False has datatype : `float32` policy is `<Policy \"mixed_float16\">`\n",
            "layer `block4c_project_bn` is trainable : False has datatype : `float32` policy is `<Policy \"mixed_float16\">`\n",
            "layer `block4c_drop` is trainable : False has datatype : `float32` policy is `<Policy \"mixed_float16\">`\n",
            "layer `block4c_add` is trainable : False has datatype : `float32` policy is `<Policy \"mixed_float16\">`\n",
            "layer `block5a_expand_conv` is trainable : False has datatype : `float32` policy is `<Policy \"mixed_float16\">`\n",
            "layer `block5a_expand_bn` is trainable : False has datatype : `float32` policy is `<Policy \"mixed_float16\">`\n",
            "layer `block5a_expand_activation` is trainable : False has datatype : `float32` policy is `<Policy \"mixed_float16\">`\n",
            "layer `block5a_dwconv` is trainable : False has datatype : `float32` policy is `<Policy \"mixed_float16\">`\n",
            "layer `block5a_bn` is trainable : False has datatype : `float32` policy is `<Policy \"mixed_float16\">`\n",
            "layer `block5a_activation` is trainable : False has datatype : `float32` policy is `<Policy \"mixed_float16\">`\n",
            "layer `block5a_se_squeeze` is trainable : False has datatype : `float32` policy is `<Policy \"mixed_float16\">`\n",
            "layer `block5a_se_reshape` is trainable : False has datatype : `float32` policy is `<Policy \"mixed_float16\">`\n",
            "layer `block5a_se_reduce` is trainable : False has datatype : `float32` policy is `<Policy \"mixed_float16\">`\n",
            "layer `block5a_se_expand` is trainable : False has datatype : `float32` policy is `<Policy \"mixed_float16\">`\n",
            "layer `block5a_se_excite` is trainable : False has datatype : `float32` policy is `<Policy \"mixed_float16\">`\n",
            "layer `block5a_project_conv` is trainable : False has datatype : `float32` policy is `<Policy \"mixed_float16\">`\n",
            "layer `block5a_project_bn` is trainable : False has datatype : `float32` policy is `<Policy \"mixed_float16\">`\n",
            "layer `block5b_expand_conv` is trainable : False has datatype : `float32` policy is `<Policy \"mixed_float16\">`\n",
            "layer `block5b_expand_bn` is trainable : False has datatype : `float32` policy is `<Policy \"mixed_float16\">`\n",
            "layer `block5b_expand_activation` is trainable : False has datatype : `float32` policy is `<Policy \"mixed_float16\">`\n",
            "layer `block5b_dwconv` is trainable : False has datatype : `float32` policy is `<Policy \"mixed_float16\">`\n",
            "layer `block5b_bn` is trainable : False has datatype : `float32` policy is `<Policy \"mixed_float16\">`\n",
            "layer `block5b_activation` is trainable : False has datatype : `float32` policy is `<Policy \"mixed_float16\">`\n",
            "layer `block5b_se_squeeze` is trainable : False has datatype : `float32` policy is `<Policy \"mixed_float16\">`\n",
            "layer `block5b_se_reshape` is trainable : False has datatype : `float32` policy is `<Policy \"mixed_float16\">`\n",
            "layer `block5b_se_reduce` is trainable : False has datatype : `float32` policy is `<Policy \"mixed_float16\">`\n",
            "layer `block5b_se_expand` is trainable : False has datatype : `float32` policy is `<Policy \"mixed_float16\">`\n",
            "layer `block5b_se_excite` is trainable : False has datatype : `float32` policy is `<Policy \"mixed_float16\">`\n",
            "layer `block5b_project_conv` is trainable : False has datatype : `float32` policy is `<Policy \"mixed_float16\">`\n",
            "layer `block5b_project_bn` is trainable : False has datatype : `float32` policy is `<Policy \"mixed_float16\">`\n",
            "layer `block5b_drop` is trainable : False has datatype : `float32` policy is `<Policy \"mixed_float16\">`\n",
            "layer `block5b_add` is trainable : False has datatype : `float32` policy is `<Policy \"mixed_float16\">`\n",
            "layer `block5c_expand_conv` is trainable : False has datatype : `float32` policy is `<Policy \"mixed_float16\">`\n",
            "layer `block5c_expand_bn` is trainable : False has datatype : `float32` policy is `<Policy \"mixed_float16\">`\n",
            "layer `block5c_expand_activation` is trainable : False has datatype : `float32` policy is `<Policy \"mixed_float16\">`\n",
            "layer `block5c_dwconv` is trainable : False has datatype : `float32` policy is `<Policy \"mixed_float16\">`\n",
            "layer `block5c_bn` is trainable : False has datatype : `float32` policy is `<Policy \"mixed_float16\">`\n",
            "layer `block5c_activation` is trainable : False has datatype : `float32` policy is `<Policy \"mixed_float16\">`\n",
            "layer `block5c_se_squeeze` is trainable : False has datatype : `float32` policy is `<Policy \"mixed_float16\">`\n",
            "layer `block5c_se_reshape` is trainable : False has datatype : `float32` policy is `<Policy \"mixed_float16\">`\n",
            "layer `block5c_se_reduce` is trainable : False has datatype : `float32` policy is `<Policy \"mixed_float16\">`\n",
            "layer `block5c_se_expand` is trainable : False has datatype : `float32` policy is `<Policy \"mixed_float16\">`\n",
            "layer `block5c_se_excite` is trainable : False has datatype : `float32` policy is `<Policy \"mixed_float16\">`\n",
            "layer `block5c_project_conv` is trainable : False has datatype : `float32` policy is `<Policy \"mixed_float16\">`\n",
            "layer `block5c_project_bn` is trainable : False has datatype : `float32` policy is `<Policy \"mixed_float16\">`\n",
            "layer `block5c_drop` is trainable : False has datatype : `float32` policy is `<Policy \"mixed_float16\">`\n",
            "layer `block5c_add` is trainable : False has datatype : `float32` policy is `<Policy \"mixed_float16\">`\n",
            "layer `block6a_expand_conv` is trainable : False has datatype : `float32` policy is `<Policy \"mixed_float16\">`\n",
            "layer `block6a_expand_bn` is trainable : False has datatype : `float32` policy is `<Policy \"mixed_float16\">`\n",
            "layer `block6a_expand_activation` is trainable : False has datatype : `float32` policy is `<Policy \"mixed_float16\">`\n",
            "layer `block6a_dwconv_pad` is trainable : False has datatype : `float32` policy is `<Policy \"mixed_float16\">`\n",
            "layer `block6a_dwconv` is trainable : False has datatype : `float32` policy is `<Policy \"mixed_float16\">`\n",
            "layer `block6a_bn` is trainable : False has datatype : `float32` policy is `<Policy \"mixed_float16\">`\n",
            "layer `block6a_activation` is trainable : False has datatype : `float32` policy is `<Policy \"mixed_float16\">`\n",
            "layer `block6a_se_squeeze` is trainable : False has datatype : `float32` policy is `<Policy \"mixed_float16\">`\n",
            "layer `block6a_se_reshape` is trainable : False has datatype : `float32` policy is `<Policy \"mixed_float16\">`\n",
            "layer `block6a_se_reduce` is trainable : False has datatype : `float32` policy is `<Policy \"mixed_float16\">`\n",
            "layer `block6a_se_expand` is trainable : False has datatype : `float32` policy is `<Policy \"mixed_float16\">`\n",
            "layer `block6a_se_excite` is trainable : False has datatype : `float32` policy is `<Policy \"mixed_float16\">`\n",
            "layer `block6a_project_conv` is trainable : False has datatype : `float32` policy is `<Policy \"mixed_float16\">`\n",
            "layer `block6a_project_bn` is trainable : False has datatype : `float32` policy is `<Policy \"mixed_float16\">`\n",
            "layer `block6b_expand_conv` is trainable : False has datatype : `float32` policy is `<Policy \"mixed_float16\">`\n",
            "layer `block6b_expand_bn` is trainable : False has datatype : `float32` policy is `<Policy \"mixed_float16\">`\n",
            "layer `block6b_expand_activation` is trainable : False has datatype : `float32` policy is `<Policy \"mixed_float16\">`\n",
            "layer `block6b_dwconv` is trainable : False has datatype : `float32` policy is `<Policy \"mixed_float16\">`\n",
            "layer `block6b_bn` is trainable : False has datatype : `float32` policy is `<Policy \"mixed_float16\">`\n",
            "layer `block6b_activation` is trainable : False has datatype : `float32` policy is `<Policy \"mixed_float16\">`\n",
            "layer `block6b_se_squeeze` is trainable : False has datatype : `float32` policy is `<Policy \"mixed_float16\">`\n",
            "layer `block6b_se_reshape` is trainable : False has datatype : `float32` policy is `<Policy \"mixed_float16\">`\n",
            "layer `block6b_se_reduce` is trainable : False has datatype : `float32` policy is `<Policy \"mixed_float16\">`\n",
            "layer `block6b_se_expand` is trainable : False has datatype : `float32` policy is `<Policy \"mixed_float16\">`\n",
            "layer `block6b_se_excite` is trainable : False has datatype : `float32` policy is `<Policy \"mixed_float16\">`\n",
            "layer `block6b_project_conv` is trainable : False has datatype : `float32` policy is `<Policy \"mixed_float16\">`\n",
            "layer `block6b_project_bn` is trainable : False has datatype : `float32` policy is `<Policy \"mixed_float16\">`\n",
            "layer `block6b_drop` is trainable : False has datatype : `float32` policy is `<Policy \"mixed_float16\">`\n",
            "layer `block6b_add` is trainable : False has datatype : `float32` policy is `<Policy \"mixed_float16\">`\n",
            "layer `block6c_expand_conv` is trainable : False has datatype : `float32` policy is `<Policy \"mixed_float16\">`\n",
            "layer `block6c_expand_bn` is trainable : False has datatype : `float32` policy is `<Policy \"mixed_float16\">`\n",
            "layer `block6c_expand_activation` is trainable : False has datatype : `float32` policy is `<Policy \"mixed_float16\">`\n",
            "layer `block6c_dwconv` is trainable : False has datatype : `float32` policy is `<Policy \"mixed_float16\">`\n",
            "layer `block6c_bn` is trainable : False has datatype : `float32` policy is `<Policy \"mixed_float16\">`\n",
            "layer `block6c_activation` is trainable : False has datatype : `float32` policy is `<Policy \"mixed_float16\">`\n",
            "layer `block6c_se_squeeze` is trainable : False has datatype : `float32` policy is `<Policy \"mixed_float16\">`\n",
            "layer `block6c_se_reshape` is trainable : False has datatype : `float32` policy is `<Policy \"mixed_float16\">`\n",
            "layer `block6c_se_reduce` is trainable : False has datatype : `float32` policy is `<Policy \"mixed_float16\">`\n",
            "layer `block6c_se_expand` is trainable : False has datatype : `float32` policy is `<Policy \"mixed_float16\">`\n",
            "layer `block6c_se_excite` is trainable : False has datatype : `float32` policy is `<Policy \"mixed_float16\">`\n",
            "layer `block6c_project_conv` is trainable : False has datatype : `float32` policy is `<Policy \"mixed_float16\">`\n",
            "layer `block6c_project_bn` is trainable : False has datatype : `float32` policy is `<Policy \"mixed_float16\">`\n",
            "layer `block6c_drop` is trainable : False has datatype : `float32` policy is `<Policy \"mixed_float16\">`\n",
            "layer `block6c_add` is trainable : False has datatype : `float32` policy is `<Policy \"mixed_float16\">`\n",
            "layer `block6d_expand_conv` is trainable : False has datatype : `float32` policy is `<Policy \"mixed_float16\">`\n",
            "layer `block6d_expand_bn` is trainable : False has datatype : `float32` policy is `<Policy \"mixed_float16\">`\n",
            "layer `block6d_expand_activation` is trainable : False has datatype : `float32` policy is `<Policy \"mixed_float16\">`\n",
            "layer `block6d_dwconv` is trainable : False has datatype : `float32` policy is `<Policy \"mixed_float16\">`\n",
            "layer `block6d_bn` is trainable : False has datatype : `float32` policy is `<Policy \"mixed_float16\">`\n",
            "layer `block6d_activation` is trainable : False has datatype : `float32` policy is `<Policy \"mixed_float16\">`\n",
            "layer `block6d_se_squeeze` is trainable : False has datatype : `float32` policy is `<Policy \"mixed_float16\">`\n",
            "layer `block6d_se_reshape` is trainable : False has datatype : `float32` policy is `<Policy \"mixed_float16\">`\n",
            "layer `block6d_se_reduce` is trainable : False has datatype : `float32` policy is `<Policy \"mixed_float16\">`\n",
            "layer `block6d_se_expand` is trainable : False has datatype : `float32` policy is `<Policy \"mixed_float16\">`\n",
            "layer `block6d_se_excite` is trainable : False has datatype : `float32` policy is `<Policy \"mixed_float16\">`\n",
            "layer `block6d_project_conv` is trainable : False has datatype : `float32` policy is `<Policy \"mixed_float16\">`\n",
            "layer `block6d_project_bn` is trainable : False has datatype : `float32` policy is `<Policy \"mixed_float16\">`\n",
            "layer `block6d_drop` is trainable : False has datatype : `float32` policy is `<Policy \"mixed_float16\">`\n",
            "layer `block6d_add` is trainable : False has datatype : `float32` policy is `<Policy \"mixed_float16\">`\n",
            "layer `block7a_expand_conv` is trainable : False has datatype : `float32` policy is `<Policy \"mixed_float16\">`\n",
            "layer `block7a_expand_bn` is trainable : False has datatype : `float32` policy is `<Policy \"mixed_float16\">`\n",
            "layer `block7a_expand_activation` is trainable : False has datatype : `float32` policy is `<Policy \"mixed_float16\">`\n",
            "layer `block7a_dwconv` is trainable : False has datatype : `float32` policy is `<Policy \"mixed_float16\">`\n",
            "layer `block7a_bn` is trainable : False has datatype : `float32` policy is `<Policy \"mixed_float16\">`\n",
            "layer `block7a_activation` is trainable : False has datatype : `float32` policy is `<Policy \"mixed_float16\">`\n",
            "layer `block7a_se_squeeze` is trainable : False has datatype : `float32` policy is `<Policy \"mixed_float16\">`\n",
            "layer `block7a_se_reshape` is trainable : False has datatype : `float32` policy is `<Policy \"mixed_float16\">`\n",
            "layer `block7a_se_reduce` is trainable : False has datatype : `float32` policy is `<Policy \"mixed_float16\">`\n",
            "layer `block7a_se_expand` is trainable : False has datatype : `float32` policy is `<Policy \"mixed_float16\">`\n",
            "layer `block7a_se_excite` is trainable : False has datatype : `float32` policy is `<Policy \"mixed_float16\">`\n",
            "layer `block7a_project_conv` is trainable : False has datatype : `float32` policy is `<Policy \"mixed_float16\">`\n",
            "layer `block7a_project_bn` is trainable : False has datatype : `float32` policy is `<Policy \"mixed_float16\">`\n",
            "layer `top_conv` is trainable : False has datatype : `float32` policy is `<Policy \"mixed_float16\">`\n",
            "layer `top_bn` is trainable : False has datatype : `float32` policy is `<Policy \"mixed_float16\">`\n",
            "layer `top_activation` is trainable : False has datatype : `float32` policy is `<Policy \"mixed_float16\">`\n"
          ]
        }
      ]
    },
    {
      "cell_type": "code",
      "source": [
        "history_101_food_classes_feature_extract = model.fit(train_data,\n",
        "                                                     epochs=3,\n",
        "                                                     steps_per_epoch=len(train_data),\n",
        "                                                     validation_data=test_data,\n",
        "                                                     validation_steps=len(test_data),\n",
        "                                                     callbacks=[create_tensorboard_callback(\"training_logs\",\n",
        "                                                                                            \"101_food_classes_feature_extract\"),\n",
        "                                                                model_checkpoint])"
      ],
      "metadata": {
        "colab": {
          "base_uri": "https://localhost:8080/"
        },
        "id": "XuGnd6n_TG4Z",
        "outputId": "edf2674f-8041-4afa-9b40-4d80aa1a4aba"
      },
      "execution_count": null,
      "outputs": [
        {
          "output_type": "stream",
          "name": "stdout",
          "text": [
            "Saving TensorBoard log files to: training_logs/101_food_classes_feature_extract/20230323-071931\n"
          ]
        },
        {
          "output_type": "stream",
          "name": "stderr",
          "text": [
            "WARNING:tensorflow:Model failed to serialize as JSON. Ignoring... Unable to serialize [2.0896919 2.1128857 2.1081853] to JSON. Unrecognized type <class 'tensorflow.python.framework.ops.EagerTensor'>.\n"
          ]
        },
        {
          "output_type": "stream",
          "name": "stdout",
          "text": [
            "Epoch 1/3\n",
            "2368/2368 [==============================] - ETA: 0s - loss: 1.7181 - accuracy: 0.5826"
          ]
        },
        {
          "output_type": "stream",
          "name": "stderr",
          "text": [
            "WARNING:tensorflow:Can save best model only with val_acc available, skipping.\n"
          ]
        },
        {
          "output_type": "stream",
          "name": "stdout",
          "text": [
            "\b\b\b\b\b\b\b\b\b\b\b\b\b\b\b\b\b\b\b\b\b\b\b\b\b\b\b\b\b\b\b\b\b\b\b\b\b\b\b\b\b\b\b\b\b\b\b\b\b\b\b\b\b\b\b\b\b\b\b\b\b\b\b\b\b\b\b\b\b\b\b\b\b\b\b\b\b\b\b\b\b\b\b\b\b\b\r2368/2368 [==============================] - 267s 106ms/step - loss: 1.7181 - accuracy: 0.5826 - val_loss: 1.1408 - val_accuracy: 0.6970\n",
            "Epoch 2/3\n",
            "2367/2368 [============================>.] - ETA: 0s - loss: 1.1995 - accuracy: 0.6888"
          ]
        },
        {
          "output_type": "stream",
          "name": "stderr",
          "text": [
            "WARNING:tensorflow:Can save best model only with val_acc available, skipping.\n"
          ]
        },
        {
          "output_type": "stream",
          "name": "stdout",
          "text": [
            "\b\b\b\b\b\b\b\b\b\b\b\b\b\b\b\b\b\b\b\b\b\b\b\b\b\b\b\b\b\b\b\b\b\b\b\b\b\b\b\b\b\b\b\b\b\b\b\b\b\b\b\b\b\b\b\b\b\b\b\b\b\b\b\b\b\b\b\b\b\b\b\b\b\b\b\b\b\b\b\b\b\b\b\b\b\b\r2368/2368 [==============================] - 252s 106ms/step - loss: 1.1994 - accuracy: 0.6888 - val_loss: 1.0388 - val_accuracy: 0.7205\n",
            "Epoch 3/3\n",
            "2367/2368 [============================>.] - ETA: 0s - loss: 1.0539 - accuracy: 0.7260"
          ]
        },
        {
          "output_type": "stream",
          "name": "stderr",
          "text": [
            "WARNING:tensorflow:Can save best model only with val_acc available, skipping.\n"
          ]
        },
        {
          "output_type": "stream",
          "name": "stdout",
          "text": [
            "\b\b\b\b\b\b\b\b\b\b\b\b\b\b\b\b\b\b\b\b\b\b\b\b\b\b\b\b\b\b\b\b\b\b\b\b\b\b\b\b\b\b\b\b\b\b\b\b\b\b\b\b\b\b\b\b\b\b\b\b\b\b\b\b\b\b\b\b\b\b\b\b\b\b\b\b\b\b\b\b\b\b\b\b\b\b\r2368/2368 [==============================] - 222s 93ms/step - loss: 1.0539 - accuracy: 0.7260 - val_loss: 0.9935 - val_accuracy: 0.7295\n"
          ]
        }
      ]
    },
    {
      "cell_type": "code",
      "source": [
        "#Evalute on whole test data\n",
        "results_feature_extract_model = model.evaluate(test_data)"
      ],
      "metadata": {
        "colab": {
          "base_uri": "https://localhost:8080/"
        },
        "id": "e00qWBHZVAvv",
        "outputId": "f70e63f3-dd56-4052-de5a-f84f05219f9d"
      },
      "execution_count": null,
      "outputs": [
        {
          "output_type": "stream",
          "name": "stdout",
          "text": [
            "790/790 [==============================] - 54s 68ms/step - loss: 0.9935 - accuracy: 0.7295\n"
          ]
        }
      ]
    },
    {
      "cell_type": "code",
      "source": [],
      "metadata": {
        "id": "MGGg6bhdY2GE"
      },
      "execution_count": null,
      "outputs": []
    }
  ]
}